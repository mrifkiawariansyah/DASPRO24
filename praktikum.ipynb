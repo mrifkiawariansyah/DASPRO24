{
 "cells": [
  {
   "cell_type": "code",
   "execution_count": 7,
   "id": "ae00df4b-6504-4e16-9edd-0992c2cbc2cf",
   "metadata": {},
   "outputs": [],
   "source": [
    "dataList = {}\n",
    "class NIMTidakValid(Exception):\n",
    "    pass\n",
    "    "
   ]
  },
  {
   "cell_type": "code",
   "execution_count": 8,
   "id": "406e6dc2-06b3-488c-b864-4e72f6c13505",
   "metadata": {},
   "outputs": [],
   "source": [
    "def tambahMaha():\n",
    "    try:\n",
    "        nim = input(\"Masukan NIM Mahasiswa (11 digit): \")\n",
    "        if len(nim) != 11 or not nim.isdigit():\n",
    "            raise NIMTidakValid(\"NIM harus terdiri dari tepat 11 digit angka.\")\n",
    "        \n",
    "        nama = input(\"Masukan Nama Mahasiswa (min. 6 karakter): \")\n",
    "        if len(nama) < 6:\n",
    "            raise ValueError(\"Nama minimal 6 karakter.\")\n",
    "\n",
    "        alamat = input(\"Masukan Alamat Mahasiswa (min. 10 karakter): \")\n",
    "        if len(alamat) < 10:\n",
    "            raise ValueError(\"Alamat minimal 10 karakter.\")\n",
    "\n",
    "        kelas = input(\"Masukan Kelas Mahasiswa (TI23 / TI24): \").upper()\n",
    "        if kelas not in [\"TI23\", \"TI24\"]:\n",
    "            raise ValueError(\"Kelas harus 'TI23' atau 'TI24'.\")\n",
    "\n",
    "        dataList[nim] = [nama, alamat, kelas]\n",
    "        print(\"Data berhasil ditambahkan!\")\n",
    "        \n",
    "    except (NIMTidakValid,Exception,ValueError) as err:\n",
    "        print(\"Terjadi kesalahan:\", err)"
   ]
  },
  {
   "cell_type": "code",
   "execution_count": 9,
   "id": "a2bdf12d-bbf6-48c9-b0a2-bc83be135ab9",
   "metadata": {},
   "outputs": [],
   "source": [
    "def tampilMaha():\n",
    "    if not dataList:\n",
    "        print(\"Belum ada data mahasiswa.\")\n",
    "    else:\n",
    "        print(\"\\nData Mahasiswa:\")\n",
    "        for nim, info in dataList.items():\n",
    "            print(f\"NIM: {nim} | Nama: {info[0]} | Alamat: {info[1]} | Kelas: {info[2]}\")"
   ]
  },
  {
   "cell_type": "code",
   "execution_count": 10,
   "id": "2dcc77af-d8ac-49dc-98f7-b0062657b7c2",
   "metadata": {},
   "outputs": [
    {
     "name": "stdout",
     "output_type": "stream",
     "text": [
      "\n",
      "=== MENU MAHASISWA ===\n",
      "1. Tambah Data Mahasiswa\n",
      "2. Tampilkan Semua Mahasiswa\n",
      "3. Keluar\n"
     ]
    },
    {
     "name": "stdin",
     "output_type": "stream",
     "text": [
      "Pilih Menu (1/2/3):  1\n",
      "Masukan NIM Mahasiswa (11 digit):  20240040149\n",
      "Masukan Nama Mahasiswa (min. 6 karakter):  muhamad rifki awariansyah\n",
      "Masukan Alamat Mahasiswa (min. 10 karakter):  sukabumi jawa barat\n",
      "Masukan Kelas Mahasiswa (TI23 / TI24):  TI24\n"
     ]
    },
    {
     "name": "stdout",
     "output_type": "stream",
     "text": [
      "Data berhasil ditambahkan!\n",
      "\n",
      "=== MENU MAHASISWA ===\n",
      "1. Tambah Data Mahasiswa\n",
      "2. Tampilkan Semua Mahasiswa\n",
      "3. Keluar\n"
     ]
    },
    {
     "name": "stdin",
     "output_type": "stream",
     "text": [
      "Pilih Menu (1/2/3):  3\n"
     ]
    },
    {
     "name": "stdout",
     "output_type": "stream",
     "text": [
      "Keluar dari program.\n"
     ]
    }
   ],
   "source": [
    "while True:\n",
    "    print(\"\\n=== MENU MAHASISWA ===\")\n",
    "    print(\"1. Tambah Data Mahasiswa\")\n",
    "    print(\"2. Tampilkan Semua Mahasiswa\")\n",
    "    print(\"3. Keluar\")\n",
    "\n",
    "    pilih = input(\"Pilih Menu (1/2/3): \")\n",
    "    if pilih == \"1\":\n",
    "        tambahMaha()\n",
    "    elif pilih == \"2\":\n",
    "        tampilMaha()\n",
    "    elif pilih == \"3\":\n",
    "        print(\"Keluar dari program.\")\n",
    "        break\n",
    "    else:\n",
    "        print(\"Input tidak valid.\")"
   ]
  },
  {
   "cell_type": "code",
   "execution_count": null,
   "id": "40d94441-0247-49ae-8cf7-1621b359ff17",
   "metadata": {},
   "outputs": [],
   "source": []
  }
 ],
 "metadata": {
  "kernelspec": {
   "display_name": "Python 3 (ipykernel)",
   "language": "python",
   "name": "python3"
  },
  "language_info": {
   "codemirror_mode": {
    "name": "ipython",
    "version": 3
   },
   "file_extension": ".py",
   "mimetype": "text/x-python",
   "name": "python",
   "nbconvert_exporter": "python",
   "pygments_lexer": "ipython3",
   "version": "3.12.7"
  }
 },
 "nbformat": 4,
 "nbformat_minor": 5
}
