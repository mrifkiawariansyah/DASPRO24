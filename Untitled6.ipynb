{
 "cells": [
  {
   "cell_type": "code",
   "execution_count": 3,
   "id": "92ed304b-a8ff-40fd-b27c-bbff093c6dd3",
   "metadata": {},
   "outputs": [
    {
     "ename": "IndentationError",
     "evalue": "expected an indented block after 'try' statement on line 4 (4047725387.py, line 5)",
     "output_type": "error",
     "traceback": [
      "\u001b[1;36m  Cell \u001b[1;32mIn[3], line 5\u001b[1;36m\u001b[0m\n\u001b[1;33m    if operator == \"+\":\u001b[0m\n\u001b[1;37m    ^\u001b[0m\n\u001b[1;31mIndentationError\u001b[0m\u001b[1;31m:\u001b[0m expected an indented block after 'try' statement on line 4\n"
     ]
    }
   ],
   "source": [
    "\n",
    "    angka1 = int(input('Angka 1:'))\n",
    "    angka2 = int(input('Angka 2:'))\n",
    "    operator = input(\"Operator (+,-,+,/):\")\n",
    "try:\n",
    "    if operator == \"+\":\n",
    "        hasil = angka1 + angka2\n",
    "    elif operator ==\"-\":\n",
    "        hasil = angka1 - angka2\n",
    "    elif operator == \"*\":\n",
    "        hasil = angka1 * angka2\n",
    "    elif operator == \"/\":\n",
    "        hasil = angka1 / angka2\n",
    "    else:\n",
    "        hasil =\"Operator Salah!\"\n",
    "except ZeroDivisionEror:\n",
    "print(\"Tidak di perbolehkan pembagian dengan 0\")\n",
    "except ValueEror:\n",
    "print(\"Inputnya harus angka\")\n",
    "else:\n",
    "print(f\"Hasil : {hasil}\")\n",
    "finally :\n",
    "print(\"proses perhitungan selesai dikerjakan!\")\n"
   ]
  },
  {
   "cell_type": "code",
   "execution_count": null,
   "id": "e00bda89-18a4-4581-9f76-cb8b8b4525ba",
   "metadata": {},
   "outputs": [],
   "source": []
  }
 ],
 "metadata": {
  "kernelspec": {
   "display_name": "Python 3 (ipykernel)",
   "language": "python",
   "name": "python3"
  },
  "language_info": {
   "codemirror_mode": {
    "name": "ipython",
    "version": 3
   },
   "file_extension": ".py",
   "mimetype": "text/x-python",
   "name": "python",
   "nbconvert_exporter": "python",
   "pygments_lexer": "ipython3",
   "version": "3.12.7"
  }
 },
 "nbformat": 4,
 "nbformat_minor": 5
}
