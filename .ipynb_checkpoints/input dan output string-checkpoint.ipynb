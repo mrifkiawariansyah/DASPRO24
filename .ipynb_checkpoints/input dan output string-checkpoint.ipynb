{
 "cells": [
  {
   "cell_type": "code",
   "execution_count": 1,
   "id": "39d714c5-e12f-4cec-8944-dd07ca06c875",
   "metadata": {},
   "outputs": [
    {
     "name": "stdin",
     "output_type": "stream",
     "text": [
      "Masukkan nama:  rifki\n",
      "Masukkan umur:  19\n",
      "Masukkan alamat:  sukabumi\n",
      "Masukkan jurusan:  teknik informatika\n"
     ]
    },
    {
     "name": "stdout",
     "output_type": "stream",
     "text": [
      "\n",
      "Biodata:\n",
      "Nama    : rifki\n",
      "Umur    : 19\n",
      "Alamat  : sukabumi\n",
      "Jurusan : teknik informatika\n",
      "\n"
     ]
    }
   ],
   "source": [
    "nama = input(\"Masukkan nama: \")\n",
    "umur = input(\"Masukkan umur: \")\n",
    "alamat = input(\"Masukkan alamat: \")\n",
    "jurusan = input(\"Masukkan jurusan: \")\n",
    "\n",
    "biodata = \"\"\"\n",
    "Biodata:\n",
    "Nama    : {}\n",
    "Umur    : {}\n",
    "Alamat  : {}\n",
    "Jurusan : {}\n",
    "\"\"\".format(nama, umur, alamat, jurusan)\n",
    "\n",
    "print(biodata)"
   ]
  },
  {
   "cell_type": "code",
   "execution_count": 2,
   "id": "e8bbc2ec-5687-4d62-ae88-7d5b006927dd",
   "metadata": {},
   "outputs": [
    {
     "name": "stdout",
     "output_type": "stream",
     "text": [
      "a.putra nusa\n",
      "b.NIVERSITAS NSA PTRA SKABMI\n",
      "c.SUKABUMI PUTRA NUSA UNIVERSITAS\n",
      "d.UNPS\n",
      "e.TAS SAPU BUMI\n"
     ]
    }
   ],
   "source": [
    "text = \"UNIVERSITAS NUSA PUTRA SUKABUMI\"\n",
    "\n",
    "# a. putra nusa\n",
    "outputA = \" \".join(text.split()[2:0:-1]).lower()\n",
    "\n",
    "# b. NIVERSITAS NSA PTRA SKABMI\n",
    "outputB = text[1:].replace('U', '')\n",
    "\n",
    "# c. SUKABUMI PUTRA NUSA UNIVERSITAS\n",
    "outputC = \" \".join(reversed(text.split()))\n",
    "\n",
    "# d. UNPS (singkatan dari setiap kata)\n",
    "outputD = \"\".join([word[0] for word in text.split()])\n",
    "\n",
    "# e. TAS SAPU BUMI\n",
    "outputE = \" \".join([text.split()[0][-3:], text.split()[1][2:4] + text.split()[2][0:2], text.split()[3][-4:]])\n",
    "\n",
    "print(f\"a.{outputA}\")\n",
    "print(f\"b.{outputB}\")\n",
    "print(f\"c.{outputC}\")\n",
    "print(f\"d.{outputD}\")\n",
    "print(f\"e.{outputE}\")"
   ]
  },
  {
   "cell_type": "code",
   "execution_count": null,
   "id": "510a990d-cb3a-4c52-bdad-e776a3c94a52",
   "metadata": {},
   "outputs": [],
   "source": []
  }
 ],
 "metadata": {
  "kernelspec": {
   "display_name": "Python 3 (ipykernel)",
   "language": "python",
   "name": "python3"
  },
  "language_info": {
   "codemirror_mode": {
    "name": "ipython",
    "version": 3
   },
   "file_extension": ".py",
   "mimetype": "text/x-python",
   "name": "python",
   "nbconvert_exporter": "python",
   "pygments_lexer": "ipython3",
   "version": "3.12.7"
  }
 },
 "nbformat": 4,
 "nbformat_minor": 5
}
