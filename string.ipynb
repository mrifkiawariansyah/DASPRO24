{
 "cells": [
  {
   "cell_type": "code",
   "execution_count": 1,
   "id": "e2236dec-18f8-4c77-9885-1ca2169dddbe",
   "metadata": {},
   "outputs": [
    {
     "name": "stdout",
     "output_type": "stream",
     "text": [
      "panjang string 'Halo Rifki!' adalah: 11\n"
     ]
    }
   ],
   "source": [
    "#Menghitung Panjang String\n",
    "#Contoh Penggunaan\n",
    "teks = \"Halo Rifki!\"\n",
    "panjang = len(teks)\n",
    "print(f\"panjang string '{teks}' adalah: {panjang}\")"
   ]
  },
  {
   "cell_type": "code",
   "execution_count": 3,
   "id": "4dc5cc0b-cb43-4fa2-bae1-1ebd290b06b0",
   "metadata": {},
   "outputs": [
    {
     "name": "stdout",
     "output_type": "stream",
     "text": [
      "Hasil penggabungan: Halorifki\n"
     ]
    }
   ],
   "source": [
    "#Menggabungkan String \n",
    "#Contoh Penggunan\n",
    "teks1 = \"Halo\"\n",
    "teks2 = \"rifki\"\n",
    "hasil = teks1 + teks2\n",
    "print(\"Hasil penggabungan:\",hasil)"
   ]
  },
  {
   "cell_type": "code",
   "execution_count": 5,
   "id": "f01c274c-74c9-4ea7-bdaf-25c76e4f62a0",
   "metadata": {},
   "outputs": [
    {
     "name": "stdout",
     "output_type": "stream",
     "text": [
      "Substring 'Menyenangkan' ditemukan pada posisi: 19\n"
     ]
    }
   ],
   "source": [
    "#Mencari Substring\n",
    "#Contoh Penggunaan\n",
    "teks = \"Belajar Python Itu Menyenangkan\"\n",
    "substring = \"Menyenangkan\"\n",
    "posisi = teks.find(substring)\n",
    "if posisi != -1:\n",
    "    print(f\"Substring '{substring}' ditemukan pada posisi: {posisi}\")\n",
    "else:\n",
    "    print(f\"Substring '{substring}' tidak ditemukan\")\n"
   ]
  },
  {
   "cell_type": "code",
   "execution_count": 8,
   "id": "e080648c-878a-4ac8-bf46-e53db017904f",
   "metadata": {},
   "outputs": [
    {
     "name": "stdout",
     "output_type": "stream",
     "text": [
      "Hasil penggantian: saya lebih suka memakai bahasa pemerograman python\n"
     ]
    }
   ],
   "source": [
    "#Mengganti Substring\n",
    "#Contoh Penggunaan \n",
    "teks = \"saya lebih suka memakai bahasa pemerograman java\"\n",
    "lama = \"java\"\n",
    "baru = \"python\"\n",
    "hasil = teks.replace(lama, baru)\n",
    "print(f\"Hasil penggantian: {hasil}\")"
   ]
  },
  {
   "cell_type": "code",
   "execution_count": 9,
   "id": "c804d6eb-dee7-4461-9e7c-705391cc6ca0",
   "metadata": {},
   "outputs": [
    {
     "name": "stdout",
     "output_type": "stream",
     "text": [
      "Hasil pemisah: ['apel', 'jeruk', 'mangga']\n"
     ]
    }
   ],
   "source": [
    "#Memisahkan String\n",
    "#Contoh Penggunaan\n",
    "teks = \"apel,jeruk,mangga\"\n",
    "pemisah = \",\"\n",
    "hasil = teks.split(pemisah)\n",
    "print(f\"Hasil pemisah: {hasil}\")\n"
   ]
  },
  {
   "cell_type": "code",
   "execution_count": 12,
   "id": "8c503e10-0336-4940-9479-7a23f365bef8",
   "metadata": {},
   "outputs": [
    {
     "name": "stdout",
     "output_type": "stream",
     "text": [
      "Huruf kapital: HALO RIFKI\n",
      "Huruf kecil: halo rifki\n"
     ]
    }
   ],
   "source": [
    "#Mengubah Huruf Kapital/Kecil\n",
    "#Contoh Penggunan\n",
    "teks = \"Halo Rifki\"\n",
    "Kapital = teks.upper()\n",
    "Kecil = teks.lower()\n",
    "print(f\"Huruf kapital: {Kapital}\")\n",
    "print(f\"Huruf kecil: {Kecil}\")"
   ]
  },
  {
   "cell_type": "code",
   "execution_count": null,
   "id": "feec888e-c6fe-4997-a73a-975ce0ba7a78",
   "metadata": {},
   "outputs": [],
   "source": []
  }
 ],
 "metadata": {
  "kernelspec": {
   "display_name": "Python 3 (ipykernel)",
   "language": "python",
   "name": "python3"
  },
  "language_info": {
   "codemirror_mode": {
    "name": "ipython",
    "version": 3
   },
   "file_extension": ".py",
   "mimetype": "text/x-python",
   "name": "python",
   "nbconvert_exporter": "python",
   "pygments_lexer": "ipython3",
   "version": "3.12.7"
  }
 },
 "nbformat": 4,
 "nbformat_minor": 5
}
