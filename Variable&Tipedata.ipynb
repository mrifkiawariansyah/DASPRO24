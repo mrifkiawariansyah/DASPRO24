{
 "cells": [
  {
   "cell_type": "markdown",
   "id": "d3bbda3c-4f69-429b-a8e6-e11ae20c4bcc",
   "metadata": {},
   "source": [
    "nama = \"Dsur\"\n",
    "umur = 21\n",
    "alamat,provinsi = \"Jl.Nyalindung\",\"7413412\"\n",
    "pythonScore = 80.5\n",
    "isMarried = True\n",
    "\n",
    "print(\"Nama :\",nama)\n",
    "print(\"Umur :\",umur)\n",
    "print(\"Alamat :\", alamat)m\n",
    "print(\"Provinsi :\",provinsi)\n",
    "print(\"Nilai :\",pythonScore)\n",
    "print(\"Status Menikah :\", isMarried)"
   ]
  },
  {
   "cell_type": "markdown",
   "id": "bab01453-dff8-44de-982a-f2bb7e3dc4bc",
   "metadata": {},
   "source": [
    "print(\"Tipe Data (nama) :\",type(nama))\n",
    "print(\"Tipe Data (umur) :\",type(umur))\n",
    "print(\"Tipe Data (alamat) :\",type(alamat))\n",
    "print(\"Tipe Data (provinsi) :\",type(provinsi))m\n",
    "print(\"Tipe Data (pythonScore) :\",type(pythonScore))\n",
    "print(\"Tipe Data (isMarried) :\",type(isMarried))"
   ]
  },
  {
   "cell_type": "code",
   "execution_count": 15,
   "id": "5aff8fbb-dd5d-4347-945c-2e4ab1e07f17",
   "metadata": {},
   "outputs": [
    {
     "name": "stdout",
     "output_type": "stream",
     "text": [
      "7413412 7413412.0 True\n",
      "21 21.0 True\n",
      "80.5 80 True\n",
      "True 1 True\n"
     ]
    }
   ],
   "source": [
    "#Casting atau Conversi Tipe Data\n",
    "\n",
    "strToInt = int(provinsi)\n",
    "strToFloat = float(provinsi)\n",
    "strToBool = bool(provinsi)\n",
    "print(strToInt,strToFloat,strToBool)\n",
    "\n",
    "intToStr = str(umur)\n",
    "intToFloat = float(umur)\n",
    "intToBool = bool(umur)\n",
    "print(intToStr,intToFloat,intToBool)\n",
    "\n",
    "floatToStr = str(pythonScore)\n",
    "floatToInt = int(pythonScore)\n",
    "floatToBool = bool(pythonScore)\n",
    "print(floatToStr,floatToInt,floatToBool)\n",
    "\n",
    "boolToStr = str(isMarried)\n",
    "boolToInt = int(isMarried)\n",
    "boolToBool = bool(isMarried)\n",
    "print(boolToStr,boolToInt,boolToBool)"
   ]
  },
  {
   "cell_type": "code",
   "execution_count": 25,
   "id": "ba1f0b53-e89a-4192-8911-931cc8d71a17",
   "metadata": {},
   "outputs": [
    {
     "name": "stdout",
     "output_type": "stream",
     "text": [
      "S\n",
      "8\n",
      "i\n"
     ]
    }
   ],
   "source": [
    "#String Adalah Kumpulan dari beberapa karakter dan Immtable\n",
    "\n",
    "city = \"Sukabumi\"\n",
    "panjang = len(city)\n",
    "print(city[0])\n",
    "print(len(city))\n",
    "print(city[panjang-1])\n"
   ]
  },
  {
   "cell_type": "code",
   "execution_count": 26,
   "id": "ac519b53-bed0-4de7-9647-81a84ba963c2",
   "metadata": {},
   "outputs": [
    {
     "name": "stdout",
     "output_type": "stream",
     "text": [
      "Nilai Decimal : 500\n",
      "Nilai Biner : 10\n",
      "Nilai Octal : 255\n",
      "Nilai Hexa : 255\n",
      "Biner dari 500 : 0b111110100\n",
      "Ocal dari 500 : 0o764\n",
      "Hexadesimal 500 : 0x1f4\n"
     ]
    }
   ],
   "source": [
    "desimal = 500\n",
    "biner = 0b1010\n",
    "octal = 0o377\n",
    "hexa = 0xff\n",
    "\n",
    "print(\"Nilai Decimal :\",desimal)\n",
    "print(\"Nilai Biner :\",biner)\n",
    "print(\"Nilai Octal :\",octal)\n",
    "print(\"Nilai Hexa :\",hexa)\n",
    "\n",
    "print(\"Biner dari\",desimal,\":\",bin(desimal))\n",
    "print(\"Ocal dari\",desimal,\":\",oct(desimal))\n",
    "print(\"Hexadesimal\",desimal,\":\",hex(desimal))"
   ]
  },
  {
   "cell_type": "code",
   "execution_count": 38,
   "id": "e97e2cc9-c967-4e4a-9826-825869da488f",
   "metadata": {},
   "outputs": [
    {
     "ename": "SyntaxError",
     "evalue": "invalid syntax (1362044914.py, line 34)",
     "output_type": "error",
     "traceback": [
      "\u001b[1;36m  Cell \u001b[1;32mIn[38], line 34\u001b[1;36m\u001b[0m\n\u001b[1;33m    \"umur\" : 20,\u001b[0m\n\u001b[1;37m           ^\u001b[0m\n\u001b[1;31mSyntaxError\u001b[0m\u001b[1;31m:\u001b[0m invalid syntax\n"
     ]
    }
   ],
   "source": [
    "#Tipe data Collection\n",
    "cities = [\"Sukabumi\",\"Malang\",\"Bandung\"]\n",
    "print(cities)\n",
    "print(cities[0])\n",
    "print(cities[len(cities)-1])\n",
    "cities[1] = \"Jakarta\"\n",
    "print(cities)\n",
    "\n",
    "hobbies = (\"Basket\",\"Sholat\",\"Foot Ball\")\n",
    "print(hobbies)\n",
    "print(hobbies[0])\n",
    "#hobbies[0] = \"watching Netflix\" Program error\n",
    "studentData = {\n",
    "    \"nama\" : \"Andi\",\n",
    "    \"umur\" : 20,\n",
    "    \"alamat\" : {\n",
    "        \"Jalan\" : \"Jl.Nyalindung\",\n",
    "        \"nomer\" : 21,\n",
    "        \"provinsi\" : \"Sukabumi\",\n",
    "    }\n",
    "}\n",
    "\n",
    "studentList ={\n",
    "    \"nama\" : \"Andi\",\n",
    "    \"umur\" : 20,\n",
    "    \"alamat\" : {\n",
    "        \"Jalan\" : \"Jl.Nyalindung\",\n",
    "        \"nomer\" : 21,\n",
    "        \"provinsi\" : \"Sukabumi\",\n",
    "    }\n",
    "}\n",
    "{\n",
    "    \"nama\" : \"Budi\"\n",
    "    \"umur\" : 20,\n",
    "    \"alamat\" : {\n",
    "        \"jalan\" : \"Jl.Nyalindung\",\n",
    "        \"nomer\" : 21,\n",
    "        \"provinsi\" : \"Sukabumi\",\n",
    "    }\n",
    "}\n",
    "print(studentData)\n",
    "print(studentData[\"nama\"])\n",
    "print(studentData[\"alamat\"][\"provinsi\"])"
   ]
  },
  {
   "cell_type": "code",
   "execution_count": null,
   "id": "54e2a5fd-93b5-4cab-94d6-024077aa416c",
   "metadata": {},
   "outputs": [],
   "source": []
  }
 ],
 "metadata": {
  "kernelspec": {
   "display_name": "Python 3 (ipykernel)",
   "language": "python",
   "name": "python3"
  },
  "language_info": {
   "codemirror_mode": {
    "name": "ipython",
    "version": 3
   },
   "file_extension": ".py",
   "mimetype": "text/x-python",
   "name": "python",
   "nbconvert_exporter": "python",
   "pygments_lexer": "ipython3",
   "version": "3.12.9"
  }
 },
 "nbformat": 4,
 "nbformat_minor": 5
}
