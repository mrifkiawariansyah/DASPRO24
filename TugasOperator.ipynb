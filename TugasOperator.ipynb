{
 "cells": [
  {
   "cell_type": "markdown",
   "id": "2bc96fde-e7db-4a1a-9b86-fc011a31a228",
   "metadata": {},
   "source": [
    "<h1>OPERATOR ARITMATIKA</h1>"
   ]
  },
  {
   "cell_type": "code",
   "execution_count": 1,
   "id": "1fc1d549-00d6-4696-ae3e-47b8abbd19aa",
   "metadata": {},
   "outputs": [
    {
     "name": "stdin",
     "output_type": "stream",
     "text": [
      "Apel milik Budi: 3\n",
      "Apel milik Teman: 5\n",
      "Apel tambahan Budi: 6\n"
     ]
    },
    {
     "name": "stdout",
     "output_type": "stream",
     "text": [
      "Hasil Bagi 3 / 5 = 0.6\n",
      "Hasil tambahan 3 + 6 = 9\n"
     ]
    }
   ],
   "source": [
    "x = input(\"Apel milik Budi:\")\n",
    "y = input(\"Apel milik Teman:\")\n",
    "z = input(\"Apel tambahan Budi:\")\n",
    "x = int(x)\n",
    "y = int(y)\n",
    "z = int(z)\n",
    "hasilbagi = x / y\n",
    "tambahan = x + z\n",
    "print(\"Hasil Bagi\",x,\"/\",y,\"=\",hasilbagi)\n",
    "print(\"Hasil tambahan\",x,\"+\",z,\"=\",tambahan)\n"
   ]
  },
  {
   "cell_type": "markdown",
   "id": "0bb0c922-00ac-407d-b301-b281c1bcec5a",
   "metadata": {},
   "source": [
    "<h1>OPERATOR PERBANDINGAN</h1>"
   ]
  },
  {
   "cell_type": "code",
   "execution_count": 2,
   "id": "0c22b870-638f-4f8b-b18a-7e952caef564",
   "metadata": {},
   "outputs": [
    {
     "name": "stdout",
     "output_type": "stream",
     "text": [
      "160 = 165 False\n",
      "160 != 165 True\n",
      "160 > 165 False\n",
      "160 < 165 True\n",
      "160 >= 165 False\n",
      "160 <= 165 True\n"
     ]
    }
   ],
   "source": [
    "Siti = 160\n",
    "Andi = 165\n",
    "\n",
    "print(Siti,\"=\",Andi,Siti==Andi)\n",
    "print(Siti,\"!=\",Andi,Siti!=Andi)\n",
    "print(Siti,\">\",Andi,Siti>Andi)\n",
    "print(Siti,\"<\",Andi,Siti<Andi)\n",
    "print(Siti,\">=\",Andi,Siti>=Andi)\n",
    "print(Siti,\"<=\",Andi,Siti<=Andi)"
   ]
  },
  {
   "cell_type": "markdown",
   "id": "1a6befe0-bc72-4677-a82a-5f864dd702ae",
   "metadata": {},
   "source": [
    "<h1>OPERATOR LOGIKA</h1>"
   ]
  },
  {
   "cell_type": "code",
   "execution_count": 3,
   "id": "661afdf2-2c2f-45d9-a9ba-85fe17403fe0",
   "metadata": {},
   "outputs": [
    {
     "name": "stdin",
     "output_type": "stream",
     "text": [
      "Apakah cuaca cerah? (True/False): FLASE\n",
      "Apakah PR selesai? (True/False): True\n"
     ]
    },
    {
     "name": "stdout",
     "output_type": "stream",
     "text": [
      "Apakah Budi bisa bermain? : jangan\n"
     ]
    }
   ],
   "source": [
    "Cuaca_cerah = input(\"Apakah cuaca cerah? (True/False):\")\n",
    "PR_selesai = input(\"Apakah PR selesai? (True/False):\") \n",
    "if Cuaca_cerah == \"True\" and PR_selesai == \"True\":\n",
    "    budibisabermain = \"boleh\"\n",
    "else:\n",
    "    budibisabermain = \"jangan\"\n",
    "print(\"Apakah Budi bisa bermain? :\",budibisabermain)"
   ]
  },
  {
   "cell_type": "markdown",
   "id": "019c5381-73e1-46ed-b51c-fc832165de73",
   "metadata": {},
   "source": [
    "<h1>OPERATOR BITWISE</h1>"
   ]
  },
  {
   "cell_type": "code",
   "execution_count": 4,
   "id": "bc246134-9bb9-4345-ace0-b37c2d14da8b",
   "metadata": {},
   "outputs": [
    {
     "name": "stdout",
     "output_type": "stream",
     "text": [
      "2\n",
      "7\n",
      "5\n"
     ]
    }
   ],
   "source": [
    "num_1 = 6\n",
    "num_2 = 3\n",
    "\n",
    "print(num_1 & num_2)\n",
    "print(num_1 | num_2)\n",
    "print(num_1 ^ num_2)"
   ]
  },
  {
   "cell_type": "markdown",
   "id": "c29cc842-ca7e-4f43-8239-e28317fd0ce7",
   "metadata": {},
   "source": [
    "<h1>OPERATOR PENUGASAN</h1>"
   ]
  },
  {
   "cell_type": "code",
   "execution_count": 6,
   "id": "38f19f27-1750-429e-b43b-e941c9e13352",
   "metadata": {},
   "outputs": [
    {
     "name": "stdout",
     "output_type": "stream",
     "text": [
      "Seorang siswa memiliki uang saldo sebanyak 50000\n",
      "Lalu mengisi uang saldo sebanyak Rp.20000, total uang saldp menjadi 70000\n",
      "Lalu membeli paket data swharga Rp.30000, total uang saldo menjadi 40000\n"
     ]
    }
   ],
   "source": [
    "UangSaldo = 50000\n",
    "\n",
    "print(\"Seorang siswa memiliki uang saldo sebanyak\",UangSaldo)\n",
    "UangSaldo += 20000\n",
    "print(\"Lalu mengisi uang saldo sebanyak Rp.20000, total uang saldp menjadi\",UangSaldo)\n",
    "UangSaldo -= 30000\n",
    "print(\"Lalu membeli paket data swharga Rp.30000, total uang saldo menjadi\",UangSaldo)"
   ]
  },
  {
   "cell_type": "markdown",
   "id": "002d79f1-cb0e-410e-84dd-95f15e8984d6",
   "metadata": {},
   "source": [
    "<h1>OPERATOR KEANGGOTAAN</h1>"
   ]
  },
  {
   "cell_type": "code",
   "execution_count": 8,
   "id": "50cbaa25-e620-4647-a9a0-e6069dd3c3b8",
   "metadata": {},
   "outputs": [
    {
     "name": "stdout",
     "output_type": "stream",
     "text": [
      "False\n",
      "True\n"
     ]
    }
   ],
   "source": [
    "peserta_lomba = [\"Andi\", \"Budi\", \"Citra\", \"Dewi\" ]\n",
    "temukan = \"Eka\"\n",
    "print(temukan in peserta_lomba)\n",
    "\n",
    "kalimat = \"Saya suka belajar Python\"\n",
    "temukan = \"Python\"\n",
    "print(temukan in kalimat)"
   ]
  },
  {
   "cell_type": "markdown",
   "id": "232e6e58-74a9-42a5-8b1c-4c91ec9522d6",
   "metadata": {},
   "source": [
    "<h1>OPERATOR IDENTITAS</h1>"
   ]
  },
  {
   "cell_type": "code",
   "execution_count": 9,
   "id": "ef9a670c-3dba-4a12-9862-b5763b630fc3",
   "metadata": {},
   "outputs": [
    {
     "name": "stdout",
     "output_type": "stream",
     "text": [
      "id variabel x adalah 140736300788280\n",
      "id variabel y adalah 140736300788280\n",
      "Apakah x sama dengan y? True\n",
      "Apakah kedua list tersebut mengacu ke objek yang sama? False\n"
     ]
    }
   ],
   "source": [
    "x = 5\n",
    "y = 5\n",
    "print(\"id variabel x adalah\",id(x))\n",
    "print(\"id variabel y adalah\",id(y))\n",
    "print(\"Apakah x sama dengan y?\",x is y)\n",
    "\n",
    "list_1 = [\"2\", \"3\", \"5\", \"7\", \"9\"]\n",
    "list_2 = [\"2\", \"3\", \"5\", \"7\", \"9\"]\n",
    "hasil = list_1 is list_2\n",
    "print(\"Apakah kedua list tersebut mengacu ke objek yang sama?\",hasil)"
   ]
  },
  {
   "cell_type": "markdown",
   "id": "f6ccf5fb-9c1b-48f0-9f2c-a6a84637ed07",
   "metadata": {},
   "source": [
    "<h1>OPERATOR TERNARY</h1>"
   ]
  },
  {
   "cell_type": "code",
   "execution_count": 10,
   "id": "b9985f15-f00f-4b36-959b-80d8da72eccb",
   "metadata": {},
   "outputs": [
    {
     "name": "stdin",
     "output_type": "stream",
     "text": [
      "Nilai x: 90\n"
     ]
    },
    {
     "name": "stdout",
     "output_type": "stream",
     "text": [
      "Nilai x lebih kecil dari 100\n"
     ]
    }
   ],
   "source": [
    "x = int(input(\"Nilai x:\"))\n",
    "y = 100\n",
    "islebihtinggi = \"Nilai x lebih besar dari 100\" if x > y else \"Nilai x lebih kecil dari 100\"\n",
    "print(islebihtinggi)"
   ]
  },
  {
   "cell_type": "code",
   "execution_count": 11,
   "id": "ca87d86e-65ba-4156-ae1f-30d7e670906b",
   "metadata": {},
   "outputs": [
    {
     "name": "stdin",
     "output_type": "stream",
     "text": [
      "Nilai matkul: 90\n"
     ]
    },
    {
     "name": "stdout",
     "output_type": "stream",
     "text": [
      "Lulus\n"
     ]
    }
   ],
   "source": [
    "x = int(input(\"Nilai matkul:\"))\n",
    "y = 70\n",
    "islulus = \"Lulus\" if x > y else \"Tidak Lulus\"\n",
    "print(islulus)"
   ]
  },
  {
   "cell_type": "code",
   "execution_count": null,
   "id": "0f995982-058a-4633-ac73-54e1d54546ef",
   "metadata": {},
   "outputs": [],
   "source": []
  }
 ],
 "metadata": {
  "kernelspec": {
   "display_name": "Python 3 (ipykernel)",
   "language": "python",
   "name": "python3"
  },
  "language_info": {
   "codemirror_mode": {
    "name": "ipython",
    "version": 3
   },
   "file_extension": ".py",
   "mimetype": "text/x-python",
   "name": "python",
   "nbconvert_exporter": "python",
   "pygments_lexer": "ipython3",
   "version": "3.12.7"
  }
 },
 "nbformat": 4,
 "nbformat_minor": 5
}
