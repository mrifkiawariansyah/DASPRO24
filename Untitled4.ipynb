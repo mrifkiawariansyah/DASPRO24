{
 "cells": [
  {
   "cell_type": "code",
   "execution_count": 1,
   "id": "577be2b0-f92b-4947-8fe6-834a7821aaa1",
   "metadata": {},
   "outputs": [
    {
     "ename": "SyntaxError",
     "evalue": "expected ':' (542959416.py, line 13)",
     "output_type": "error",
     "traceback": [
      "\u001b[1;36m  Cell \u001b[1;32mIn[1], line 13\u001b[1;36m\u001b[0m\n\u001b[1;33m    elif operator == \"/\"\u001b[0m\n\u001b[1;37m                        ^\u001b[0m\n\u001b[1;31mSyntaxError\u001b[0m\u001b[1;31m:\u001b[0m expected ':'\n"
     ]
    }
   ],
   "source": [
    "try:\n",
    "    angka1 = int(input('Angka 1:'))\n",
    "    angka2 = int(input('Angka 2:'))\n",
    "    operator = input(\"Operator (+,-,+,/):\")\n",
    "    if operator == \"+\":\n",
    "        hasil = angka1 + angka2\n",
    "    elif operator ==\"-\":\n",
    "        hasil = angka1 - angka2\n",
    "    elif operator == \"*\":\n",
    "        hasil = angka1 * angka2\n",
    "    elif operator == \"/\":\n",
    "        hasil = angka1 / angka2\n",
    "    else:\n",
    "        hasil =\"Operator Salah!\"\n",
    "except ZeroDivisionEror:\n",
    "print(\"Tidak di perbolehkan pembagian dengan 0\")\n",
    "except ValueEror:\n",
    "print(\"Inputnya harus angka\")\n",
    "else:\n",
    "print(f\"Hasil : {hasil}\")\n",
    "finally :\n",
    "print(\"proses perhitungan selesai dikerjakan!\")\n"
   ]
  },
  {
   "cell_type": "code",
   "execution_count": null,
   "id": "ca885e1d-7d9e-4afe-85ed-38490986d9bb",
   "metadata": {},
   "outputs": [],
   "source": [
    "#IndexEror -> LIST\n",
    "Data = []\n",
    "try:\n",
    "\n",
    "    jumlahData = int(input(\"Banyak Data:\"))\n",
    "    \n",
    "    for i in range (0,jumlahData):\n",
    "        nilai = int(input(\"Isikan Nilai Siswa\"))\n",
    "        data.append(nilai)\n",
    "\n",
    "    showdata = int(input(\"Tampilkan data urutan ke berapa :\"))\n",
    "    hasil = data[showData-1]\n",
    "except ValueError:\n",
    "    print(\"Input harus angka!!\")\n",
    "except IndexError:\n",
    "    print(\"Data tidak tersedia!!\")\n",
    "else:\n",
    "    print(hasil)\n",
    "finally:\n",
    "    print(\"Load Data selesai!!\")\n",
    "   \n",
    "                      "
   ]
  },
  {
   "cell_type": "code",
   "execution_count": null,
   "id": "8b6f12c8-adef-4bbc-8eed-a6a7ac085a53",
   "metadata": {},
   "outputs": [],
   "source": [
    "#CustomException \n",
    "#Tiket film,umur harus >=17\n",
    "\n",
    "class UmurException(Exception):\n",
    "    pass\n",
    "\n",
    "def chekumur(umur):\n",
    "    if umur < 17:\n",
    "        raise UmurException(\"umur harus lebih dari 16\")\n",
    "        \n",
    "\n",
    "try:\n",
    "    umur = int(input(\"Isikan Umur:\"))\n",
    "    chekUmur(umur)\n",
    "except(valueError,umurException) as err:\n",
    "    print(\"Terjadi Kesalahan\" ,err)\n",
    "else:\n",
    "    print(\"umur anda valid\")\n",
    "finally:\n",
    "    print(\"Cek Umur selesai dikerjakan!!\")\n",
    "    \n"
   ]
  },
  {
   "cell_type": "code",
   "execution_count": null,
   "id": "d026678c-0fa7-47e1-829d-b7ba08433d9a",
   "metadata": {},
   "outputs": [],
   "source": []
  }
 ],
 "metadata": {
  "kernelspec": {
   "display_name": "Python 3 (ipykernel)",
   "language": "python",
   "name": "python3"
  },
  "language_info": {
   "codemirror_mode": {
    "name": "ipython",
    "version": 3
   },
   "file_extension": ".py",
   "mimetype": "text/x-python",
   "name": "python",
   "nbconvert_exporter": "python",
   "pygments_lexer": "ipython3",
   "version": "3.12.7"
  }
 },
 "nbformat": 4,
 "nbformat_minor": 5
}
