{
 "cells": [
  {
   "cell_type": "code",
   "execution_count": 2,
   "id": "cfabd6d0-bf10-4b30-9e22-775796679f0c",
   "metadata": {},
   "outputs": [
    {
     "name": "stdin",
     "output_type": "stream",
     "text": [
      "muhamad rifki awariansyah gg\n"
     ]
    },
    {
     "name": "stdout",
     "output_type": "stream",
     "text": [
      "Hallo gg !\n"
     ]
    }
   ],
   "source": [
    "#Input String\n",
    "nama = input (\"muhamad rifki awariansyah\")\n",
    "#Output String\n",
    "print(\"Hallo\",nama,\"!\")"
   ]
  },
  {
   "cell_type": "code",
   "execution_count": null,
   "id": "61ae11de-c492-4633-9b55-000c6328ab10",
   "metadata": {},
   "outputs": [],
   "source": []
  }
 ],
 "metadata": {
  "kernelspec": {
   "display_name": "Python 3 (ipykernel)",
   "language": "python",
   "name": "python3"
  },
  "language_info": {
   "codemirror_mode": {
    "name": "ipython",
    "version": 3
   },
   "file_extension": ".py",
   "mimetype": "text/x-python",
   "name": "python",
   "nbconvert_exporter": "python",
   "pygments_lexer": "ipython3",
   "version": "3.12.7"
  }
 },
 "nbformat": 4,
 "nbformat_minor": 5
}
