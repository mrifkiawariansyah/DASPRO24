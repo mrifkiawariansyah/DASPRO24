{
 "cells": [
  {
   "cell_type": "code",
   "execution_count": 3,
   "id": "05c4a5e9-6144-4441-95fc-4d1e67cfcd47",
   "metadata": {},
   "outputs": [
    {
     "name": "stdin",
     "output_type": "stream",
     "text": [
      "Angka 1: 2\n",
      "Angka 2: 3\n",
      "Operator (+,-,+,/): +\n"
     ]
    },
    {
     "name": "stdout",
     "output_type": "stream",
     "text": [
      "Hasil : 5\n",
      "proses perhitungan selesai dikerjakan!\n"
     ]
    }
   ],
   "source": [
    "try:\n",
    "    angka1 = int(input('Angka 1:'))\n",
    "    angka2 = int(input('Angka 2:'))\n",
    "    operator = input(\"Operator (+,-,+,/):\")\n",
    "    if operator == \"+\":\n",
    "        hasil = angka1 + angka2\n",
    "    elif operator ==\"-\":\n",
    "        hasil = angka1 - angka2\n",
    "    elif operator == \"*\":\n",
    "        hasil = angka1 * angka2\n",
    "    elif operator == \"/\":\n",
    "        hasil = angka1 / angka2\n",
    "    else:\n",
    "        hasil =\"Operator Salah!\"\n",
    "except ZeroDivisionEror:\n",
    "    print(\"Tidak di perbolehkan pembagian dengan 0\")\n",
    "except ValueEror:\n",
    "    print(\"Inputnya harus angka\")\n",
    "else:\n",
    "    print(f\"Hasil : {hasil}\")\n",
    "finally :\n",
    "    print(\"proses perhitungan selesai dikerjakan!\")\n"
   ]
  },
  {
   "cell_type": "code",
   "execution_count": 5,
   "id": "f0da315d-0786-4c82-810e-e8b77e0d1ee5",
   "metadata": {},
   "outputs": [
    {
     "name": "stdin",
     "output_type": "stream",
     "text": [
      "Banyak Data: 2\n",
      "Isikan Nilai Siswa: 1\n",
      "Isikan Nilai Siswa: 5\n",
      "Tampilkan data urutan ke berapa : 2\n"
     ]
    },
    {
     "name": "stdout",
     "output_type": "stream",
     "text": [
      "5\n",
      "Load Data selesai!!\n"
     ]
    }
   ],
   "source": [
    "#IndexError -> LIST\n",
    "data = []\n",
    "try:\n",
    "    jumlahData = int(input(\"Banyak Data:\"))\n",
    "    \n",
    "    for i in range (0,jumlahData):\n",
    "        nilai = int(input(\"Isikan Nilai Siswa:\"))\n",
    "        data.append(nilai)\n",
    "        \n",
    "    showData = int(input(\"Tampilkan data urutan ke berapa :\"))\n",
    "    hasil = data [showData-1]\n",
    "except ValueError:\n",
    "    print(\"Input harus angka!!\")\n",
    "except IndexError:\n",
    "    print(\"Data tidak tersedia!!\")\n",
    "else:\n",
    "    print(hasil)\n",
    "finally:\n",
    "    print(\"Load Data selesai!!\")"
   ]
  },
  {
   "cell_type": "code",
   "execution_count": 6,
   "id": "4ecc0eee-b24d-48f1-bb43-d1e6f18f1f40",
   "metadata": {},
   "outputs": [
    {
     "name": "stdin",
     "output_type": "stream",
     "text": [
      "Isikan Umur: 19\n"
     ]
    },
    {
     "name": "stdout",
     "output_type": "stream",
     "text": [
      "Umur anda valid\n",
      "Cek Umur selesai dikerjakan!!\n"
     ]
    }
   ],
   "source": [
    "#Custom exception\n",
    "#Tiket film, umur >= 17\n",
    "\n",
    "class UmurEXception(Exception):\n",
    "    pass\n",
    "\n",
    "def checkUmur(umur):\n",
    "    if umur < 17:\n",
    "        raise UmurException(\"Umur harus lebih dari 16\")\n",
    "        \n",
    "\n",
    "try:\n",
    "    umur = int(input(\"Isikan Umur:\"))\n",
    "    checkUmur(umur)\n",
    "except (ValueError,UmurException) as err:\n",
    "    print(\"Terjadi kesalahan\",err)\n",
    "else:\n",
    "    print(\"Umur anda valid\")\n",
    "finally:\n",
    "    print(\"Cek Umur selesai dikerjakan!!\")"
   ]
  },
  {
   "cell_type": "code",
   "execution_count": 8,
   "id": "e2077535-d9bb-4073-8ff5-5572db1f2722",
   "metadata": {},
   "outputs": [
    {
     "name": "stdout",
     "output_type": "stream",
     "text": [
      "Data tidak tersedia\n"
     ]
    }
   ],
   "source": [
    "#Data dari datebase -> dict\n",
    "\n",
    "try:\n",
    "    dataSiswa = {\n",
    "        \"nim\" : '20240040149',\n",
    "        \"nama\" : 'rifki',\n",
    "        \"alamat\" : \"cicurug\"\n",
    "\n",
    "    }\n",
    "    print(dataSiswa[\"kelas\"])\n",
    "except KeyError:\n",
    "    print(\"Data tidak tersedia\")\n",
    "except NameError:\n",
    "    print(\"Kesalahan mengakses nama atribut\")"
   ]
  },
  {
   "cell_type": "code",
   "execution_count": 9,
   "id": "f6a18e3c-f689-4505-8bb8-a80ad49bbbae",
   "metadata": {},
   "outputs": [
    {
     "name": "stdout",
     "output_type": "stream",
     "text": [
      "Usia,Transaksi,Label,Gender\n",
      "33,25,1,L\n",
      "21,17,0,L\n",
      "38,0,1,P\n",
      "19,12,1,P\n",
      "22,24,1,L\n",
      "24,30,0,L\n",
      "18,50,1,P\n",
      "24,30,0,P\n",
      "53,44,0,L\n",
      "29,38,1,L\n",
      "43,47,0,P\n",
      "45,15,1,P\n",
      "60,43,1,L\n",
      "55,16,0,L\n",
      "19,25,0,P\n",
      "34,6,0,L\n",
      "21,33,0,L\n",
      "20,48,1,L\n",
      "47,13,1,P\n",
      "45,24,0,L\n",
      "43,45,1,P\n",
      "31,44,0,L\n",
      "51,18,1,L\n",
      "46,48,0,P\n",
      "26,31,1,L\n",
      "25,30,0,L\n",
      "39,4,0,L\n",
      "45,45,1,P\n",
      "21,34,0,P\n",
      "46,2,1,P\n",
      "39,38,0,P\n",
      "38,50,1,P\n",
      "34,41,0,P\n",
      "51,39,0,P\n",
      "58,36,1,L\n",
      "39,21,1,L\n",
      "53,39,0,P\n",
      "41,46,1,L\n",
      "23,13,0,L\n",
      "54,10,0,P\n",
      "25,25,1,L\n",
      "53,13,0,P\n",
      "51,44,0,L\n",
      "29,22,1,P\n",
      "18,27,1,L\n",
      "38,35,0,P\n",
      "45,16,0,P\n",
      "43,38,0,P\n",
      "45,9,0,P\n",
      "25,14,1,L\n",
      "47,48,1,L\n",
      "55,32,1,L\n",
      "35,19,0,P\n",
      "27,45,0,L\n",
      "32,1,1,P\n",
      "53,6,1,L\n",
      "41,8,0,P\n",
      "59,3,0,P\n",
      "60,17,1,P\n",
      "51,3,0,P\n",
      "54,32,1,L\n",
      "53,5,0,L\n",
      "54,23,0,L\n",
      "37,45,0,P\n",
      "47,0,0,L\n",
      "59,6,0,P\n",
      "50,35,1,L\n",
      "23,9,0,L\n",
      "42,37,0,P\n",
      "20,27,0,P\n",
      "44,25,0,P\n",
      "26,32,1,P\n",
      "25,41,1,P\n",
      "42,20,0,L\n",
      "48,30,1,L\n",
      "21,15,1,L\n",
      "53,38,1,P\n",
      "40,25,0,P\n",
      "35,40,1,P\n",
      "27,26,0,L\n",
      "58,17,0,P\n",
      "52,20,0,L\n",
      "36,41,0,L\n",
      "32,13,0,L\n",
      "45,33,1,L\n",
      "48,23,0,P\n",
      "38,3,1,P\n",
      "32,31,0,P\n",
      "56,3,1,P\n",
      "33,40,1,L\n",
      "51,32,0,L\n",
      "37,31,0,L\n",
      "53,41,1,L\n",
      "46,36,0,P\n",
      "43,42,1,P\n",
      "52,13,0,P\n",
      "55,26,1,L\n",
      "47,24,1,P\n",
      "21,0,1,P\n",
      "35,11,0,L\n",
      "\n"
     ]
    }
   ],
   "source": [
    "# File handling -> mengakses file plain text\n",
    "# open(\"Nama_File\", \"mode\")\n",
    "# mode -> r = read, w = write, a = append\n",
    "\n",
    "try:\n",
    "    file = open(\"dataLatih.csv\", \"r\")\n",
    "    konten = file.read()\n",
    "except FileNotFoundError:\n",
    "    print(\"File tidak ditemukan!!\")\n",
    "else:\n",
    "    print(konten)\n",
    "finally:\n",
    "    file.close()"
   ]
  },
  {
   "cell_type": "code",
   "execution_count": 10,
   "id": "51cb75fe-5680-4e21-ac4a-18fdf93df06a",
   "metadata": {},
   "outputs": [],
   "source": [
    "try:\n",
    "    with open(\"data.txt\",'w' ) as file:\n",
    "        file.write(\"hello apa kabar\\n\")\n",
    "        file.write(\"uas\\n\")\n",
    "except FileNotFoundError:\n",
    "    print(\"file tidak di temukan!\")"
   ]
  },
  {
   "cell_type": "code",
   "execution_count": null,
   "id": "cd873ebd-a61d-4686-996a-a3ab76186974",
   "metadata": {},
   "outputs": [],
   "source": []
  }
 ],
 "metadata": {
  "kernelspec": {
   "display_name": "Python 3 (ipykernel)",
   "language": "python",
   "name": "python3"
  },
  "language_info": {
   "codemirror_mode": {
    "name": "ipython",
    "version": 3
   },
   "file_extension": ".py",
   "mimetype": "text/x-python",
   "name": "python",
   "nbconvert_exporter": "python",
   "pygments_lexer": "ipython3",
   "version": "3.12.7"
  }
 },
 "nbformat": 4,
 "nbformat_minor": 5
}
